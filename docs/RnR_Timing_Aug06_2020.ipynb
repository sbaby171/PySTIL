{
 "cells": [
  {
   "cell_type": "markdown",
   "metadata": {},
   "source": [
    "\n",
    "<strong>Objective:</strong>\n",
    "Today, I am to refactor the Timing and try to create a base class  that can be used for other top-level blocks. \n",
    "\n",
    "\n",
    "Below is a general structure, that I like for the Blocks\n",
    "class. However, the question is if we could extend this \n",
    "to other classes by refactoring this into a base class \n",
    "and let other classes inherit it? \n",
    "\n",
    "<strong>NOTE</strong>: In order to judge if a class is correctly constructed, we must\n",
    "have an *objective* of the class. Without its objectives how could we \n",
    "judge it? "
   ]
  },
  {
   "cell_type": "code",
   "execution_count": 14,
   "metadata": {},
   "outputs": [],
   "source": [
    "class PatternBurstBlocks(object): \n",
    "    def __init__(self): \n",
    "        self.patternBursts = {} # Name -> PatternBurstObject\n",
    "    def add(self, patternBurst): \n",
    "        if not isinstance(patternBurst, PatternBurst): \n",
    "            raise ValueError(\"Must provide instance of PatternBurst.\")\n",
    "        self.patternBursts[patternBurst.name] = patternBurst\n",
    "    def get(self, name): \n",
    "        if name in self.patternBursts: return self.patternBursts[name]\n",
    "        else: return None\n",
    "    def __len__(self): \n",
    "        return len(self.patternBursts)\n",
    "\n",
    "pbbs = PatternBurstBlocks()\n"
   ]
  },
  {
   "cell_type": "markdown",
   "metadata": {},
   "source": [
    "The `self.patternBursts = {}` could be renamed so its reuse doesnt \n",
    "lead to loss of information. We could rename to `self.objects={}`.\n",
    "- The internal dictionary is a mapping of names (domain names) to \n",
    "thier respective objects. \n",
    "- This implies that no domain names be reused or that all domain \n",
    "names be unique (which seems to be what I have seen within the \n",
    "standard).\n",
    "\n",
    "Of the other methods, `add` seems to the only one that would need \n",
    "to be implementated at the inhertied level. This is because we \n",
    "want to assess the class type of the added object. This class type \n",
    "will change depending on the class. \n",
    "\n",
    "So, by discovering the common theme across all top-level blocks, we can create our base class, `Blocks`."
   ]
  },
  {
   "cell_type": "code",
   "execution_count": null,
   "metadata": {},
   "outputs": [],
   "source": [
    "class Blocks(object): \n",
    "    def __init__(self): \n",
    "        self.objects = {} # Name -> Object\n",
    "        \n",
    "    def add(self, entity, classtype): \n",
    "        if not isinstance(entity, classtype): \n",
    "            raise ValueError(\"Must provide instance of %s.\"%(classtype))\n",
    "        self.objects[entity.name] = entity\n",
    "        \n",
    "    def get(self, name): \n",
    "        if name in self.objects: return self.objects[name]\n",
    "        else: return None\n",
    "        \n",
    "    def __len__(self): \n",
    "        return len(self.objects)   "
   ]
  },
  {
   "cell_type": "code",
   "execution_count": 19,
   "metadata": {},
   "outputs": [
    {
     "name": "stdout",
     "output_type": "stream",
     "text": [
      "<__main__.PatternBurst object at 0x000001B107F64388>\n"
     ]
    }
   ],
   "source": [
    "class PatternBurst(object):\n",
    "    def __init__(self, name): \n",
    "        self.name = name \n",
    "        self.blocks = {\"PatList\": [], \"ParallelPatList\":[], \"PatSet\":[]}\n",
    "        self.ordering = [] # [(type,index)]\n",
    "\n",
    "class PatternBurstBlocks(Blocks): \n",
    "    def __init__(self): \n",
    "        super().__init__()\n",
    "    def add(self, patternBurst): \n",
    "        super().add(patternBurst, PatternBurst)\n",
    "\n",
    "pbbs  = PatternBurstBlocks()\n",
    "pb = PatternBurst(name=\"XYZ\")\n",
    "pbbs.add(pb)\n",
    "#pbbs.add({\"hey\":8})\n",
    "print(pbbs.get(\"XYZ\"))\n"
   ]
  },
  {
   "cell_type": "markdown",
   "metadata": {},
   "source": [
    "Now that we have shown how the `Blocks` base class can be used for a real top-level class, we can now easily create the containers for every other class. \n",
    "\n",
    "The key is to remember that each instance needs to override the add method and have the class type created. The only exception would possibly be the `Signals` block. That is because, according to 1450.0, only one Signals block will be referenced during translation; the first one. All others will be ignored.  "
   ]
  },
  {
   "cell_type": "code",
   "execution_count": 22,
   "metadata": {},
   "outputs": [],
   "source": [
    "class TimingBlocks(Blocks): \n",
    "    def __init__(self): \n",
    "        super().__init__()\n",
    "    def add(self, timing): \n",
    "        super().add(timing, Timing)\n",
    "        \n",
    "class DCLevelsBlocks(Blocks): \n",
    "    def __init__(self): \n",
    "        super().__init__()\n",
    "    def add(self, dclevels): \n",
    "        super().add(dclevels, DCLevels)\n",
    "\n",
    "class SignalGroupsBlocks(Blocks): \n",
    "    def __init__(self): \n",
    "        super().__init__()\n",
    "    def add(self, signalgroups): \n",
    "        super().add(signalgroups, SignalGroups)\n",
    "        \n",
    "        \n",
    "        \n",
    "        \n",
    "        "
   ]
  },
  {
   "cell_type": "markdown",
   "metadata": {},
   "source": [
    "# Conclusion: \n",
    "It seems that we can you use the `Blocks` class as a base for all other toplevel container classes. This allows for maximum code resuse. But more importanly, it does not interfere with the customization that each class may requires. This base class is only meant to service the purpose of standrdizing the 'container' like aspects of top-level blocks found in STIL. "
   ]
  },
  {
   "cell_type": "code",
   "execution_count": null,
   "metadata": {},
   "outputs": [],
   "source": []
  },
  {
   "cell_type": "code",
   "execution_count": null,
   "metadata": {},
   "outputs": [],
   "source": []
  }
 ],
 "metadata": {
  "kernelspec": {
   "display_name": "Python 3",
   "language": "python",
   "name": "python3"
  },
  "language_info": {
   "codemirror_mode": {
    "name": "ipython",
    "version": 3
   },
   "file_extension": ".py",
   "mimetype": "text/x-python",
   "name": "python",
   "nbconvert_exporter": "python",
   "pygments_lexer": "ipython3",
   "version": "3.7.6"
  }
 },
 "nbformat": 4,
 "nbformat_minor": 4
}
